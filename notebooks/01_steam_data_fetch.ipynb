{
 "cells": [
  {
   "cell_type": "markdown",
   "id": "fd4f2f75",
   "metadata": {},
   "source": [
    "### Imports"
   ]
  },
  {
   "cell_type": "code",
   "execution_count": 3,
   "id": "83af73d9",
   "metadata": {},
   "outputs": [],
   "source": [
    "import requests\n",
    "import json\n",
    "import os"
   ]
  },
  {
   "cell_type": "markdown",
   "id": "07d162a0",
   "metadata": {},
   "source": [
    "### Fetch the SteamSpy Data"
   ]
  },
  {
   "cell_type": "code",
   "execution_count": 4,
   "id": "b587f345",
   "metadata": {},
   "outputs": [
    {
     "name": "stdout",
     "output_type": "stream",
     "text": [
      "The type of the data variable is: <class 'dict'>\n",
      "Fetched 1000 games\n"
     ]
    }
   ],
   "source": [
    "# URL to get all game data from SteamSpy\n",
    "url = \"https://steamspy.com/api.php?request=all\"\n",
    "\n",
    "response = requests.get(url)\n",
    "\n",
    "# Check status and parse json\n",
    "if response.status_code == 200:\n",
    "    data = response.json()\n",
    "    print(f\"The type of the data variable is: {type(data)}\")\n",
    "    print(f\"Fetched {len(data)} games\")\n",
    "else:\n",
    "    print(f\"Error fetching data: {response.status_code}\")"
   ]
  },
  {
   "cell_type": "markdown",
   "id": "09d3471c",
   "metadata": {},
   "source": [
    "### Save Raw Data to File"
   ]
  },
  {
   "cell_type": "code",
   "execution_count": 5,
   "id": "9a9bc373",
   "metadata": {},
   "outputs": [],
   "source": [
    "os.makedirs(\"../data/raw\", exist_ok=True)\n",
    "\n",
    "with open(\"../data/raw/steamspy.json\", \"w\") as f:\n",
    "    json.dump(data, f)"
   ]
  }
 ],
 "metadata": {
  "kernelspec": {
   "display_name": "venv",
   "language": "python",
   "name": "python3"
  },
  "language_info": {
   "codemirror_mode": {
    "name": "ipython",
    "version": 3
   },
   "file_extension": ".py",
   "mimetype": "text/x-python",
   "name": "python",
   "nbconvert_exporter": "python",
   "pygments_lexer": "ipython3",
   "version": "3.13.1"
  }
 },
 "nbformat": 4,
 "nbformat_minor": 5
}
